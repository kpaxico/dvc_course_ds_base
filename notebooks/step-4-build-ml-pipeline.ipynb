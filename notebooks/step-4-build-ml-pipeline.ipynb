{
 "cells": [
  {
   "cell_type": "code",
   "execution_count": 1,
   "metadata": {
    "ExecuteTime": {
     "end_time": "2020-10-25T10:36:01.274676Z",
     "start_time": "2020-10-25T10:36:01.233317Z"
    }
   },
   "outputs": [],
   "source": [
    "%load_ext autoreload\n",
    "%autoreload 2\n",
    "\n",
    "import os\n",
    "import sys"
   ]
  },
  {
   "cell_type": "code",
   "execution_count": 2,
   "metadata": {
    "ExecuteTime": {
     "end_time": "2020-10-25T10:36:01.480140Z",
     "start_time": "2020-10-25T10:36:01.465253Z"
    }
   },
   "outputs": [
    {
     "name": "stdout",
     "output_type": "stream",
     "text": [
      "c:\\_dex\\dvc_test\\dvc_course_ds_base\n"
     ]
    },
    {
     "name": "stderr",
     "output_type": "stream",
     "text": [
      "c:\\_dex\\dvc_test\\dvc_course_ds_base\\venv\\lib\\site-packages\\IPython\\core\\magics\\osm.py:417: UserWarning: This is now an optional IPython functionality, setting dhist requires you to install the `pickleshare` library.\n",
      "  self.shell.db['dhist'] = compress_dhist(dhist)[-100:]\n"
     ]
    }
   ],
   "source": [
    "# Set the repository root as a working directory\n",
    "\n",
    "%cd .."
   ]
  },
  {
   "cell_type": "code",
   "execution_count": null,
   "metadata": {},
   "outputs": [],
   "source": [
    "import sys\n",
    "from pathlib import Path\n",
    "\n",
    "# Add the project root directory to Python path\n",
    "project_root = str(Path.cwd())\n",
    "if project_root not in sys.path:\n",
    "    sys.path.append(project_root)"
   ]
  },
  {
   "cell_type": "markdown",
   "metadata": {},
   "source": [
    "# View `params.yaml` config"
   ]
  },
  {
   "cell_type": "code",
   "execution_count": 3,
   "metadata": {
    "ExecuteTime": {
     "end_time": "2020-10-25T10:23:55.547898Z",
     "start_time": "2020-10-25T10:23:55.522906Z"
    },
    "scrolled": true
   },
   "outputs": [
    {
     "data": {
      "text/plain": [
       "{'base': {'random_state': 42, 'log_level': 'INFO'},\n",
       " 'data_load': {'dataset_csv': 'data/raw/iris.csv'},\n",
       " 'featurize': {'features_path': 'data/processed/featured_iris.csv',\n",
       "  'target_column': 'target'},\n",
       " 'data_split': {'test_size': 0.2,\n",
       "  'trainset_path': 'data/processed/train_iris.csv',\n",
       "  'testset_path': 'data/processed/test_iris.csv'},\n",
       " 'train': {'cv': 3,\n",
       "  'estimator_name': 'logreg',\n",
       "  'estimators': {'logreg': {'param_grid': {'C': [0.001],\n",
       "     'max_iter': [100],\n",
       "     'solver': ['lbfgs'],\n",
       "     'multi_class': ['multinomial']}},\n",
       "   'svm': {'param_grid': {'C': [0.1, 1.0],\n",
       "     'kernel': ['rbf', 'linear'],\n",
       "     'gamma': ['scale'],\n",
       "     'degree': [3, 5]}}},\n",
       "  'model_path': 'models/model.joblib'},\n",
       " 'evaluate': {'reports_dir': 'reports',\n",
       "  'metrics_file': 'metrics.json',\n",
       "  'confusion_matrix_image': 'confusion_matrix.png'}}"
      ]
     },
     "execution_count": 3,
     "metadata": {},
     "output_type": "execute_result"
    }
   ],
   "source": [
    "# Look on stages config\n",
    "\n",
    "import yaml\n",
    "\n",
    "with open('params.yaml', 'r') as f:\n",
    "    params = yaml.safe_load(f)\n",
    "params\n",
    "\n"
   ]
  },
  {
   "cell_type": "markdown",
   "metadata": {},
   "source": [
    "# Load data\n",
    "\n",
    "- src/stages/data_load.py"
   ]
  },
  {
   "cell_type": "markdown",
   "metadata": {},
   "source": [
    "## Run as Python function "
   ]
  },
  {
   "cell_type": "code",
   "execution_count": 4,
   "metadata": {
    "ExecuteTime": {
     "end_time": "2020-10-25T10:27:53.500242Z",
     "start_time": "2020-10-25T10:27:53.462937Z"
    },
    "scrolled": true
   },
   "outputs": [
    {
     "name": "stdout",
     "output_type": "stream",
     "text": [
      "2025-07-03 12:52:25,194 — DATA_LOAD — INFO — Get dataset\n",
      "2025-07-03 12:52:25,199 — DATA_LOAD — INFO — Save raw data\n",
      "2025-07-03 12:52:25,199 — DATA_LOAD — INFO — Save raw data\n"
     ]
    }
   ],
   "source": [
    "from src.stages.data_load import data_load\n",
    "\n",
    "data_load('params.yaml')"
   ]
  },
  {
   "cell_type": "markdown",
   "metadata": {},
   "source": [
    "## Run as Python module"
   ]
  },
  {
   "cell_type": "code",
   "execution_count": 5,
   "metadata": {
    "ExecuteTime": {
     "end_time": "2020-10-25T10:27:55.871372Z",
     "start_time": "2020-10-25T10:27:54.438413Z"
    }
   },
   "outputs": [
    {
     "name": "stderr",
     "output_type": "stream",
     "text": [
      "Traceback (most recent call last):\n",
      "  File \"c:\\_dex\\dvc_test\\dvc_course_ds_base\\src\\stages\\data_load.py\", line 6, in <module>\n",
      "    from src.utils.logs import get_logger\n",
      "ModuleNotFoundError: No module named 'src'\n"
     ]
    }
   ],
   "source": [
    "!python src/stages/data_load.py --config=params.yaml"
   ]
  },
  {
   "cell_type": "code",
   "execution_count": 6,
   "metadata": {
    "ExecuteTime": {
     "end_time": "2020-10-25T10:27:56.017786Z",
     "start_time": "2020-10-25T10:27:55.977232Z"
    }
   },
   "outputs": [
    {
     "name": "stdout",
     "output_type": "stream",
     "text": [
      "2025-07-03 12:52:33,387 — DATA_LOAD — INFO — Get dataset\n",
      "2025-07-03 12:52:33,391 — DATA_LOAD — INFO — Save raw data\n",
      " Volume in drive C has no label.\n",
      " Volume Serial Number is 184C-5BB3\n",
      "\n",
      " Directory of c:\\_dex\\dvc_test\\dvc_course_ds_base\\data\\raw\n",
      "\n",
      "03.07.2025  10:39    <DIR>          .\n",
      "03.07.2025  10:39    <DIR>          ..\n",
      "03.07.2025  12:52             2.908 iris.csv\n",
      "               1 File(s)          2.908 bytes\n",
      "               2 Dir(s)  223.530.422.272 bytes free\n",
      " Volume in drive C has no label.\n",
      " Volume Serial Number is 184C-5BB3\n",
      "\n",
      " Directory of c:\\_dex\\dvc_test\\dvc_course_ds_base\\data\\raw\n",
      "\n",
      "03.07.2025  10:39    <DIR>          .\n",
      "03.07.2025  10:39    <DIR>          ..\n",
      "03.07.2025  12:52             2.908 iris.csv\n",
      "               1 File(s)          2.908 bytes\n",
      "               2 Dir(s)  223.530.422.272 bytes free\n"
     ]
    }
   ],
   "source": [
    "import os\n",
    "from pathlib import Path\n",
    "\n",
    "# Set PYTHONPATH environment variable\n",
    "os.environ['PYTHONPATH'] = str(Path.cwd())\n",
    "\n",
    "!python src/stages/data_load.py --config=params.yaml\n",
    "\n",
    "# Raw Iris dataset saved\n",
    "\n",
    "!dir data\\raw"
   ]
  },
  {
   "cell_type": "markdown",
   "metadata": {},
   "source": [
    "# Extract features\n",
    "\n",
    "- `src/stages/featurize.py`"
   ]
  },
  {
   "cell_type": "code",
   "execution_count": 7,
   "metadata": {
    "ExecuteTime": {
     "end_time": "2020-10-25T10:27:58.106025Z",
     "start_time": "2020-10-25T10:27:57.536929Z"
    }
   },
   "outputs": [
    {
     "name": "stdout",
     "output_type": "stream",
     "text": [
      "2025-07-03 12:52:41,515 — FEATURIZE — INFO — Load raw data\n",
      "2025-07-03 12:52:41,516 — FEATURIZE — INFO — Extract features\n",
      "2025-07-03 12:52:41,516 — FEATURIZE — INFO — Save features\n"
     ]
    }
   ],
   "source": [
    "!python src/stages/featurize.py --config=params.yaml"
   ]
  },
  {
   "cell_type": "code",
   "execution_count": 8,
   "metadata": {
    "ExecuteTime": {
     "end_time": "2020-10-25T10:28:17.731605Z",
     "start_time": "2020-10-25T10:28:17.583424Z"
    }
   },
   "outputs": [
    {
     "name": "stdout",
     "output_type": "stream",
     "text": [
      " Volume in drive C has no label.\n",
      " Volume Serial Number is 184C-5BB3\n",
      "\n",
      " Directory of c:\\_dex\\dvc_test\\dvc_course_ds_base\\data\\processed\n",
      "\n",
      "03.07.2025  10:41    <DIR>          .\n",
      "03.07.2025  10:39    <DIR>          ..\n",
      "03.07.2025  12:52             7.411 featured_iris.csv\n",
      "03.07.2025  12:45             1.523 test_iris.csv\n",
      "03.07.2025  12:45             5.845 train_iris.csv\n",
      "               3 File(s)         14.779 bytes\n",
      "               2 Dir(s)  223.530.418.176 bytes free\n"
     ]
    }
   ],
   "source": [
    "# Features.csv file has created\n",
    "!dir data\\processed"
   ]
  },
  {
   "cell_type": "markdown",
   "metadata": {},
   "source": [
    "# Split train/test dataset\n",
    "\n",
    "- `src/stages/data_split.py`"
   ]
  },
  {
   "cell_type": "code",
   "execution_count": 9,
   "metadata": {
    "ExecuteTime": {
     "end_time": "2020-10-25T10:28:44.583664Z",
     "start_time": "2020-10-25T10:28:43.317296Z"
    }
   },
   "outputs": [
    {
     "name": "stdout",
     "output_type": "stream",
     "text": [
      "2025-07-03 12:52:42,807 — DATA_SPLIT — INFO — Load features\n",
      "2025-07-03 12:52:42,807 — DATA_SPLIT — INFO — Split features into train and test sets\n",
      "2025-07-03 12:52:42,811 — DATA_SPLIT — INFO — Save train and test sets\n"
     ]
    }
   ],
   "source": [
    "!python src/stages/data_split.py --config=params.yaml"
   ]
  },
  {
   "cell_type": "code",
   "execution_count": 10,
   "metadata": {
    "ExecuteTime": {
     "end_time": "2020-10-25T10:29:28.643417Z",
     "start_time": "2020-10-25T10:29:28.499675Z"
    }
   },
   "outputs": [
    {
     "name": "stdout",
     "output_type": "stream",
     "text": [
      " Volume in drive C has no label.\n",
      " Volume Serial Number is 184C-5BB3\n",
      "\n",
      " Directory of c:\\_dex\\dvc_test\\dvc_course_ds_base\\data\\processed\n",
      "\n",
      "03.07.2025  10:41    <DIR>          .\n",
      "03.07.2025  10:39    <DIR>          ..\n",
      "03.07.2025  12:52             7.411 featured_iris.csv\n",
      "03.07.2025  12:52             1.523 test_iris.csv\n",
      "03.07.2025  12:52             5.845 train_iris.csv\n",
      "               3 File(s)         14.779 bytes\n",
      "               2 Dir(s)  223.530.414.080 bytes free\n"
     ]
    }
   ],
   "source": [
    "# Train and Test datasets have created\n",
    "!dir data\\processed"
   ]
  },
  {
   "cell_type": "markdown",
   "metadata": {},
   "source": [
    "# Train model\n",
    "\n",
    "- `src/stages/train.py`"
   ]
  },
  {
   "cell_type": "code",
   "execution_count": 11,
   "metadata": {
    "ExecuteTime": {
     "end_time": "2020-10-25T10:29:33.151932Z",
     "start_time": "2020-10-25T10:29:32.010967Z"
    }
   },
   "outputs": [
    {
     "name": "stdout",
     "output_type": "stream",
     "text": [
      "2025-07-03 12:52:44,238 — TRAIN — INFO — Get estimator name\n",
      "2025-07-03 12:52:44,238 — TRAIN — INFO — Estimator: logreg\n",
      "2025-07-03 12:52:44,238 — TRAIN — INFO — Load train dataset\n",
      "2025-07-03 12:52:44,238 — TRAIN — INFO — Train model\n",
      "Fitting 3 folds for each of 1 candidates, totalling 3 fits\n",
      "2025-07-03 12:52:44,259 — TRAIN — INFO — Best score: 0.857564307288572\n",
      "2025-07-03 12:52:44,259 — TRAIN — INFO — Save model\n"
     ]
    },
    {
     "name": "stderr",
     "output_type": "stream",
     "text": [
      "c:\\_dex\\dvc_test\\dvc_course_ds_base\\venv\\lib\\site-packages\\sklearn\\linear_model\\_logistic.py:1264: FutureWarning: 'multi_class' was deprecated in version 1.5 and will be removed in 1.7. From then on, it will always use 'multinomial'. Leave it to its default value to avoid this warning.\n",
      "  warnings.warn(\n",
      "c:\\_dex\\dvc_test\\dvc_course_ds_base\\venv\\lib\\site-packages\\sklearn\\linear_model\\_logistic.py:1264: FutureWarning: 'multi_class' was deprecated in version 1.5 and will be removed in 1.7. From then on, it will always use 'multinomial'. Leave it to its default value to avoid this warning.\n",
      "  warnings.warn(\n",
      "c:\\_dex\\dvc_test\\dvc_course_ds_base\\venv\\lib\\site-packages\\sklearn\\linear_model\\_logistic.py:1264: FutureWarning: 'multi_class' was deprecated in version 1.5 and will be removed in 1.7. From then on, it will always use 'multinomial'. Leave it to its default value to avoid this warning.\n",
      "  warnings.warn(\n",
      "c:\\_dex\\dvc_test\\dvc_course_ds_base\\venv\\lib\\site-packages\\sklearn\\linear_model\\_logistic.py:1264: FutureWarning: 'multi_class' was deprecated in version 1.5 and will be removed in 1.7. From then on, it will always use 'multinomial'. Leave it to its default value to avoid this warning.\n",
      "  warnings.warn(\n"
     ]
    }
   ],
   "source": [
    "!python src/stages/train.py --config=params.yaml"
   ]
  },
  {
   "cell_type": "code",
   "execution_count": 12,
   "metadata": {},
   "outputs": [
    {
     "name": "stdout",
     "output_type": "stream",
     "text": [
      " Volume in drive C has no label.\n",
      " Volume Serial Number is 184C-5BB3\n",
      "\n",
      " Directory of c:\\_dex\\dvc_test\\dvc_course_ds_base\\models\n",
      "\n",
      "03.07.2025  10:42    <DIR>          .\n",
      "03.07.2025  11:48    <DIR>          ..\n",
      "03.07.2025  12:52             2.931 model.joblib\n",
      "               1 File(s)          2.931 bytes\n",
      "               2 Dir(s)  223.530.414.080 bytes free\n"
     ]
    }
   ],
   "source": [
    "# model is created\n",
    "!dir models"
   ]
  },
  {
   "cell_type": "markdown",
   "metadata": {},
   "source": [
    "# Evaluate model \n",
    "\n",
    "- `src/stages/evaluate.py`"
   ]
  },
  {
   "cell_type": "code",
   "execution_count": 13,
   "metadata": {
    "ExecuteTime": {
     "end_time": "2020-10-25T10:38:10.201770Z",
     "start_time": "2020-10-25T10:38:07.719011Z"
    }
   },
   "outputs": [
    {
     "name": "stdout",
     "output_type": "stream",
     "text": [
      "2025-07-03 12:52:46,059 — EVALUATE — INFO — Load model\n",
      "2025-07-03 12:52:46,125 — EVALUATE — INFO — Load test dataset\n",
      "2025-07-03 12:52:46,129 — EVALUATE — INFO — Evaluate (build report)\n",
      "2025-07-03 12:52:46,129 — EVALUATE — INFO — Save metrics\n",
      "2025-07-03 12:52:46,129 — EVALUATE — INFO — F1 metrics file saved to : reports\\metrics.json\n",
      "2025-07-03 12:52:46,129 — EVALUATE — INFO — Save confusion matrix\n",
      "2025-07-03 12:52:46,746 — EVALUATE — INFO — Confusion matrix saved to : reports\\confusion_matrix.png\n"
     ]
    }
   ],
   "source": [
    "!python src/stages/evaluate.py --config=params.yaml"
   ]
  },
  {
   "cell_type": "code",
   "execution_count": 14,
   "metadata": {
    "ExecuteTime": {
     "end_time": "2020-10-25T10:38:11.927396Z",
     "start_time": "2020-10-25T10:38:11.786458Z"
    }
   },
   "outputs": [
    {
     "name": "stdout",
     "output_type": "stream",
     "text": [
      " Volume in drive C has no label.\n",
      " Volume Serial Number is 184C-5BB3\n",
      "\n",
      " Directory of c:\\_dex\\dvc_test\\dvc_course_ds_base\\reports\n",
      "\n",
      "03.07.2025  10:42    <DIR>          .\n",
      "03.07.2025  11:48    <DIR>          ..\n",
      "03.07.2025  12:52            22.267 confusion_matrix.png\n",
      "03.07.2025  12:52                32 metrics.json\n",
      "               2 File(s)         22.299 bytes\n",
      "               2 Dir(s)  223.530.409.984 bytes free\n"
     ]
    }
   ],
   "source": [
    "# metrics file metrics.json is created\n",
    "!dir reports"
   ]
  },
  {
   "cell_type": "code",
   "execution_count": 15,
   "metadata": {
    "ExecuteTime": {
     "end_time": "2020-10-25T10:38:19.458249Z",
     "start_time": "2020-10-25T10:38:19.323808Z"
    }
   },
   "outputs": [
    {
     "name": "stdout",
     "output_type": "stream",
     "text": [
      "{\"f1_score\": 0.9305555555555555}\n"
     ]
    }
   ],
   "source": [
    "!type reports\\metrics.json"
   ]
  },
  {
   "cell_type": "code",
   "execution_count": 16,
   "metadata": {
    "ExecuteTime": {
     "end_time": "2020-10-25T10:38:51.059334Z",
     "start_time": "2020-10-25T10:38:51.043192Z"
    }
   },
   "outputs": [
    {
     "data": {
      "image/png": "[encoded data removed]",
      "text/plain": [
       "<IPython.core.display.Image object>"
      ]
     },
     "execution_count": 16,
     "metadata": {},
     "output_type": "execute_result"
    }
   ],
   "source": [
    "# Display confusion matrix\n",
    "\n",
    "from IPython.display import Image\n",
    "Image('reports/confusion_matrix.png')"
   ]
  }
 ],
 "metadata": {
  "kernelspec": {
   "display_name": "venv",
   "language": "python",
   "name": "python3"
  },
  "language_info": {
   "codemirror_mode": {
    "name": "ipython",
    "version": 3
   },
   "file_extension": ".py",
   "mimetype": "text/x-python",
   "name": "python",
   "nbconvert_exporter": "python",
   "pygments_lexer": "ipython3",
   "version": "3.10.11"
  },
  "toc": {
   "base_numbering": 1,
   "nav_menu": {},
   "number_sections": true,
   "sideBar": true,
   "skip_h1_title": false,
   "title_cell": "Table of Contents",
   "title_sidebar": "Contents",
   "toc_cell": false,
   "toc_position": {},
   "toc_section_display": true,
   "toc_window_display": true
  },
  "varInspector": {
   "cols": {
    "lenName": 16,
    "lenType": 16,
    "lenVar": 40
   },
   "kernels_config": {
    "python": {
     "delete_cmd_postfix": "",
     "delete_cmd_prefix": "del ",
     "library": "var_list.py",
     "varRefreshCmd": "print(var_dic_list())"
    },
    "r": {
     "delete_cmd_postfix": ") ",
     "delete_cmd_prefix": "rm(",
     "library": "var_list.r",
     "varRefreshCmd": "cat(var_dic_list()) "
    }
   },
   "types_to_exclude": [
    "module",
    "function",
    "builtin_function_or_method",
    "instance",
    "_Feature"
   ],
   "window_display": false
  }
 },
 "nbformat": 4,
 "nbformat_minor": 4
}
